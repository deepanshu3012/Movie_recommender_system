{
 "cells": [
  {
   "cell_type": "code",
   "execution_count": 1,
   "id": "d9b8d16e-e74b-4671-852a-fd2d73ffd237",
   "metadata": {},
   "outputs": [],
   "source": [
    "import numpy as np\n",
    "import pandas as pd\n",
    "import matplotlib.pyplot as plt\n",
    "import os"
   ]
  },
  {
   "cell_type": "code",
   "execution_count": 2,
   "id": "de941f6d-94db-4d6d-b4ba-aee004fe670f",
   "metadata": {},
   "outputs": [],
   "source": [
    "#Loading our data\n",
    "movies=pd.read_csv('dataset/tmdb_5000_movies.csv')\n",
    "credits=pd.read_csv('dataset/tmdb_5000_credits.csv')"
   ]
  },
  {
   "cell_type": "code",
   "execution_count": 3,
   "id": "e723719c-5717-4690-baff-b72a283636aa",
   "metadata": {},
   "outputs": [],
   "source": [
    "#mergeing the data of both the movies and credits dataset on title\n",
    "movies=movies.merge(credits,on='title')"
   ]
  },
  {
   "cell_type": "code",
   "execution_count": 4,
   "id": "43b402f5-8cb9-4f01-a359-195196d74eb8",
   "metadata": {},
   "outputs": [],
   "source": [
    "#exracting the columns which are important for the recommendation\n",
    "movies=movies[['movie_id','title','overview','genres','keywords','cast','crew']]"
   ]
  },
  {
   "cell_type": "code",
   "execution_count": 5,
   "id": "fbd1b10d-ee05-4bc6-a63c-1e535247d882",
   "metadata": {},
   "outputs": [
    {
     "data": {
      "text/plain": [
       "movie_id    0\n",
       "title       0\n",
       "overview    3\n",
       "genres      0\n",
       "keywords    0\n",
       "cast        0\n",
       "crew        0\n",
       "dtype: int64"
      ]
     },
     "execution_count": 5,
     "metadata": {},
     "output_type": "execute_result"
    }
   ],
   "source": [
    "#checking for the null cells in our dataset\n",
    "movies.isnull().sum()"
   ]
  },
  {
   "cell_type": "code",
   "execution_count": 6,
   "id": "c35589cf-d254-4053-a3ea-f0672d5e3420",
   "metadata": {},
   "outputs": [],
   "source": [
    "#removing null values\n",
    "movies.dropna(inplace=True)"
   ]
  },
  {
   "cell_type": "code",
   "execution_count": 7,
   "id": "9390d14c-be03-43a5-bf9a-1bb8725625de",
   "metadata": {},
   "outputs": [
    {
     "data": {
      "text/plain": [
       "np.int64(0)"
      ]
     },
     "execution_count": 7,
     "metadata": {},
     "output_type": "execute_result"
    }
   ],
   "source": [
    "#check duplicate values\n",
    "movies.duplicated().sum()"
   ]
  },
  {
   "cell_type": "code",
   "execution_count": 8,
   "id": "353d428a-8417-4156-932f-86726778e9ae",
   "metadata": {},
   "outputs": [
    {
     "data": {
      "text/plain": [
       "'[{\"id\": 28, \"name\": \"Action\"}, {\"id\": 12, \"name\": \"Adventure\"}, {\"id\": 14, \"name\": \"Fantasy\"}, {\"id\": 878, \"name\": \"Science Fiction\"}]'"
      ]
     },
     "execution_count": 8,
     "metadata": {},
     "output_type": "execute_result"
    }
   ],
   "source": [
    "#checking for generes column\n",
    "movies.iloc[0]['genres']"
   ]
  },
  {
   "cell_type": "code",
   "execution_count": 9,
   "id": "be760864-7c59-4001-9491-592db2d0c3d1",
   "metadata": {},
   "outputs": [],
   "source": [
    "#defining a function to just keep genres name in genres column\n",
    "import ast\n",
    "def convert(text):\n",
    "    l=[]\n",
    "    for i in ast.literal_eval(text): #using ast.literal_eval() to convert text to list.\n",
    "        l.append(i['name'])\n",
    "    return l"
   ]
  },
  {
   "cell_type": "code",
   "execution_count": 10,
   "id": "7ab8adfb-5a5d-4915-87a6-a11468694837",
   "metadata": {},
   "outputs": [],
   "source": [
    "#applying our created fuction to seprate every movies genres within the cell and storing it in the data on same place\n",
    "movies['genres']=movies['genres'].apply(convert)"
   ]
  },
  {
   "cell_type": "code",
   "execution_count": 11,
   "id": "3b49aa2d-7bd2-4039-85ab-8a9adb9d3665",
   "metadata": {},
   "outputs": [],
   "source": [
    "#fixing our keywords column with same technique\n",
    "movies['keywords']=movies['keywords'].apply(convert)"
   ]
  },
  {
   "cell_type": "code",
   "execution_count": 12,
   "id": "2f555520-960f-4633-9e78-2a6bf939787e",
   "metadata": {},
   "outputs": [],
   "source": [
    "#defining a function to fetch only three cast from every movie\n",
    "def convert_cast(text):\n",
    "    l=[]\n",
    "    count=0\n",
    "    for i in ast.literal_eval(text): #using ast.literal_eval() to convert text to list.\n",
    "        if count<3:\n",
    "            l.append(i['name'])\n",
    "        count+=1\n",
    "    return l"
   ]
  },
  {
   "cell_type": "code",
   "execution_count": 13,
   "id": "d88d4d68-8c82-48cf-8f01-c33e67caa3dd",
   "metadata": {},
   "outputs": [],
   "source": [
    "movies['cast']=movies['cast'].apply(convert_cast)"
   ]
  },
  {
   "cell_type": "code",
   "execution_count": 14,
   "id": "55049f3e-8b08-478e-bed9-9af0f5fc76bf",
   "metadata": {},
   "outputs": [],
   "source": [
    "#defining a function to take out the director name from the crew column\n",
    "def fetch_director(text):\n",
    "    l=[]\n",
    "    for i in ast.literal_eval(text): #using ast.literal_eval() to convert text to list.\n",
    "        if i['job']=='Director':\n",
    "            l.append(i['name'])\n",
    "            break\n",
    "    return l\n"
   ]
  },
  {
   "cell_type": "code",
   "execution_count": 15,
   "id": "c97c9d0d-49a5-4065-b07b-1c74799a3903",
   "metadata": {},
   "outputs": [],
   "source": [
    "#applying our fetch director function\n",
    "movies['crew']=movies['crew'].apply(fetch_director)\n"
   ]
  },
  {
   "cell_type": "code",
   "execution_count": 16,
   "id": "62c52970-a30f-477c-9c81-530c103dd84a",
   "metadata": {},
   "outputs": [],
   "source": [
    "#making overview column as a list \n",
    "movies['overview']=movies['overview'].apply(lambda x:x.split())"
   ]
  },
  {
   "cell_type": "code",
   "execution_count": 17,
   "id": "c60b22c0-d705-4642-b899-67d0c13756d3",
   "metadata": {},
   "outputs": [],
   "source": [
    "#creating a function to remove space from the every column of our dataset\n",
    "def remove_space(text):\n",
    "    l=[]\n",
    "    for i in text:\n",
    "        l.append(i.replace(\" \",\"\"))\n",
    "    return l             "
   ]
  },
  {
   "cell_type": "code",
   "execution_count": 18,
   "id": "42624a2c-e1c7-4dd3-90d8-ffdfdeb8803b",
   "metadata": {},
   "outputs": [],
   "source": [
    "movies['crew']=movies['crew'].apply(remove_space)\n",
    "movies['cast']=movies['cast'].apply(remove_space)\n",
    "movies['keywords']=movies['keywords'].apply(remove_space)\n",
    "movies['genres']=movies['genres'].apply(remove_space)"
   ]
  },
  {
   "cell_type": "code",
   "execution_count": 19,
   "id": "58d12fe7-600e-4f62-8c65-6cef9dc1fe9b",
   "metadata": {},
   "outputs": [],
   "source": [
    "#creating a new columns tags for concatinating our other columns in it \n",
    "movies['tags']=movies['overview']+movies['genres']+movies['keywords']+movies['cast']+movies['crew']"
   ]
  },
  {
   "cell_type": "code",
   "execution_count": 20,
   "id": "4657a560-6777-4549-b1cf-beda5dcc8119",
   "metadata": {},
   "outputs": [
    {
     "data": {
      "text/html": [
       "<div>\n",
       "<style scoped>\n",
       "    .dataframe tbody tr th:only-of-type {\n",
       "        vertical-align: middle;\n",
       "    }\n",
       "\n",
       "    .dataframe tbody tr th {\n",
       "        vertical-align: top;\n",
       "    }\n",
       "\n",
       "    .dataframe thead th {\n",
       "        text-align: right;\n",
       "    }\n",
       "</style>\n",
       "<table border=\"1\" class=\"dataframe\">\n",
       "  <thead>\n",
       "    <tr style=\"text-align: right;\">\n",
       "      <th></th>\n",
       "      <th>movie_id</th>\n",
       "      <th>title</th>\n",
       "      <th>overview</th>\n",
       "      <th>genres</th>\n",
       "      <th>keywords</th>\n",
       "      <th>cast</th>\n",
       "      <th>crew</th>\n",
       "      <th>tags</th>\n",
       "    </tr>\n",
       "  </thead>\n",
       "  <tbody>\n",
       "    <tr>\n",
       "      <th>0</th>\n",
       "      <td>19995</td>\n",
       "      <td>Avatar</td>\n",
       "      <td>[In, the, 22nd, century,, a, paraplegic, Marin...</td>\n",
       "      <td>[Action, Adventure, Fantasy, ScienceFiction]</td>\n",
       "      <td>[cultureclash, future, spacewar, spacecolony, ...</td>\n",
       "      <td>[SamWorthington, ZoeSaldana, SigourneyWeaver]</td>\n",
       "      <td>[JamesCameron]</td>\n",
       "      <td>[In, the, 22nd, century,, a, paraplegic, Marin...</td>\n",
       "    </tr>\n",
       "    <tr>\n",
       "      <th>1</th>\n",
       "      <td>285</td>\n",
       "      <td>Pirates of the Caribbean: At World's End</td>\n",
       "      <td>[Captain, Barbossa,, long, believed, to, be, d...</td>\n",
       "      <td>[Adventure, Fantasy, Action]</td>\n",
       "      <td>[ocean, drugabuse, exoticisland, eastindiatrad...</td>\n",
       "      <td>[JohnnyDepp, OrlandoBloom, KeiraKnightley]</td>\n",
       "      <td>[GoreVerbinski]</td>\n",
       "      <td>[Captain, Barbossa,, long, believed, to, be, d...</td>\n",
       "    </tr>\n",
       "  </tbody>\n",
       "</table>\n",
       "</div>"
      ],
      "text/plain": [
       "   movie_id                                     title  \\\n",
       "0     19995                                    Avatar   \n",
       "1       285  Pirates of the Caribbean: At World's End   \n",
       "\n",
       "                                            overview  \\\n",
       "0  [In, the, 22nd, century,, a, paraplegic, Marin...   \n",
       "1  [Captain, Barbossa,, long, believed, to, be, d...   \n",
       "\n",
       "                                         genres  \\\n",
       "0  [Action, Adventure, Fantasy, ScienceFiction]   \n",
       "1                  [Adventure, Fantasy, Action]   \n",
       "\n",
       "                                            keywords  \\\n",
       "0  [cultureclash, future, spacewar, spacecolony, ...   \n",
       "1  [ocean, drugabuse, exoticisland, eastindiatrad...   \n",
       "\n",
       "                                            cast             crew  \\\n",
       "0  [SamWorthington, ZoeSaldana, SigourneyWeaver]   [JamesCameron]   \n",
       "1     [JohnnyDepp, OrlandoBloom, KeiraKnightley]  [GoreVerbinski]   \n",
       "\n",
       "                                                tags  \n",
       "0  [In, the, 22nd, century,, a, paraplegic, Marin...  \n",
       "1  [Captain, Barbossa,, long, believed, to, be, d...  "
      ]
     },
     "execution_count": 20,
     "metadata": {},
     "output_type": "execute_result"
    }
   ],
   "source": [
    "movies.head(2)"
   ]
  },
  {
   "cell_type": "code",
   "execution_count": 21,
   "id": "39c3086a-fecc-476f-82f3-bc0cec00f4ab",
   "metadata": {},
   "outputs": [],
   "source": [
    "#creating a new data frame in which only imprtant columns are present\n",
    "newer_df=movies[['movie_id','title','tags']]"
   ]
  },
  {
   "cell_type": "code",
   "execution_count": 22,
   "id": "f6536333-5b8a-4fc3-b074-abe4f6903932",
   "metadata": {},
   "outputs": [
    {
     "name": "stderr",
     "output_type": "stream",
     "text": [
      "C:\\Users\\user\\AppData\\Local\\Temp\\ipykernel_6808\\3216072218.py:2: SettingWithCopyWarning: \n",
      "A value is trying to be set on a copy of a slice from a DataFrame.\n",
      "Try using .loc[row_indexer,col_indexer] = value instead\n",
      "\n",
      "See the caveats in the documentation: https://pandas.pydata.org/pandas-docs/stable/user_guide/indexing.html#returning-a-view-versus-a-copy\n",
      "  newer_df['tags']=newer_df['tags'].apply(lambda x: \" \".join(x))\n"
     ]
    }
   ],
   "source": [
    "#converting tags column into paragragh with all cell values\n",
    "newer_df['tags']=newer_df['tags'].apply(lambda x: \" \".join(x))"
   ]
  },
  {
   "cell_type": "code",
   "execution_count": 25,
   "id": "37791288-d1af-499c-9b86-2ea78a3212ad",
   "metadata": {},
   "outputs": [
    {
     "name": "stderr",
     "output_type": "stream",
     "text": [
      "C:\\Users\\user\\AppData\\Local\\Temp\\ipykernel_6808\\1295283080.py:2: SettingWithCopyWarning: \n",
      "A value is trying to be set on a copy of a slice from a DataFrame.\n",
      "Try using .loc[row_indexer,col_indexer] = value instead\n",
      "\n",
      "See the caveats in the documentation: https://pandas.pydata.org/pandas-docs/stable/user_guide/indexing.html#returning-a-view-versus-a-copy\n",
      "  newer_df['tags']=newer_df['tags'].apply(lambda x:x.lower())\n"
     ]
    }
   ],
   "source": [
    "#creating all the elements into lower case\n",
    "newer_df['tags']=newer_df['tags'].apply(lambda x:x.lower())"
   ]
  },
  {
   "cell_type": "code",
   "execution_count": 26,
   "id": "2bc9c709-b3aa-46de-bb75-21b51b229305",
   "metadata": {},
   "outputs": [
    {
     "data": {
      "text/html": [
       "<div>\n",
       "<style scoped>\n",
       "    .dataframe tbody tr th:only-of-type {\n",
       "        vertical-align: middle;\n",
       "    }\n",
       "\n",
       "    .dataframe tbody tr th {\n",
       "        vertical-align: top;\n",
       "    }\n",
       "\n",
       "    .dataframe thead th {\n",
       "        text-align: right;\n",
       "    }\n",
       "</style>\n",
       "<table border=\"1\" class=\"dataframe\">\n",
       "  <thead>\n",
       "    <tr style=\"text-align: right;\">\n",
       "      <th></th>\n",
       "      <th>movie_id</th>\n",
       "      <th>title</th>\n",
       "      <th>tags</th>\n",
       "    </tr>\n",
       "  </thead>\n",
       "  <tbody>\n",
       "    <tr>\n",
       "      <th>0</th>\n",
       "      <td>19995</td>\n",
       "      <td>Avatar</td>\n",
       "      <td>in the 22nd century, a paraplegic marine is di...</td>\n",
       "    </tr>\n",
       "    <tr>\n",
       "      <th>1</th>\n",
       "      <td>285</td>\n",
       "      <td>Pirates of the Caribbean: At World's End</td>\n",
       "      <td>captain barbossa, long believed to be dead, ha...</td>\n",
       "    </tr>\n",
       "    <tr>\n",
       "      <th>2</th>\n",
       "      <td>206647</td>\n",
       "      <td>Spectre</td>\n",
       "      <td>a cryptic message from bond’s past sends him o...</td>\n",
       "    </tr>\n",
       "    <tr>\n",
       "      <th>3</th>\n",
       "      <td>49026</td>\n",
       "      <td>The Dark Knight Rises</td>\n",
       "      <td>following the death of district attorney harve...</td>\n",
       "    </tr>\n",
       "    <tr>\n",
       "      <th>4</th>\n",
       "      <td>49529</td>\n",
       "      <td>John Carter</td>\n",
       "      <td>john carter is a war-weary, former military ca...</td>\n",
       "    </tr>\n",
       "  </tbody>\n",
       "</table>\n",
       "</div>"
      ],
      "text/plain": [
       "   movie_id                                     title  \\\n",
       "0     19995                                    Avatar   \n",
       "1       285  Pirates of the Caribbean: At World's End   \n",
       "2    206647                                   Spectre   \n",
       "3     49026                     The Dark Knight Rises   \n",
       "4     49529                               John Carter   \n",
       "\n",
       "                                                tags  \n",
       "0  in the 22nd century, a paraplegic marine is di...  \n",
       "1  captain barbossa, long believed to be dead, ha...  \n",
       "2  a cryptic message from bond’s past sends him o...  \n",
       "3  following the death of district attorney harve...  \n",
       "4  john carter is a war-weary, former military ca...  "
      ]
     },
     "execution_count": 26,
     "metadata": {},
     "output_type": "execute_result"
    }
   ],
   "source": [
    "newer_df.head()"
   ]
  },
  {
   "cell_type": "code",
   "execution_count": 27,
   "id": "67ff8a6e-39c4-4861-a971-3d5a4a748d8d",
   "metadata": {},
   "outputs": [],
   "source": [
    "#creating a function to make unique and generalize word for every repeating word with same meaning\n",
    "#example:love,loved,loving these all means same in recommedation thing \n",
    "import nltk\n",
    "from nltk.stem import PorterStemmer\n",
    "ps=PorterStemmer()\n",
    "def stems(text):\n",
    "    l=[]\n",
    "    for i in text.split():\n",
    "        l.append(ps.stem(i))\n",
    "    return \" \".join(l)   \n",
    "        \n"
   ]
  },
  {
   "cell_type": "code",
   "execution_count": 28,
   "id": "22a05f6d-d82e-460a-b016-c3cfb9a0beac",
   "metadata": {},
   "outputs": [
    {
     "name": "stderr",
     "output_type": "stream",
     "text": [
      "C:\\Users\\user\\AppData\\Local\\Temp\\ipykernel_6808\\1617245595.py:2: SettingWithCopyWarning: \n",
      "A value is trying to be set on a copy of a slice from a DataFrame.\n",
      "Try using .loc[row_indexer,col_indexer] = value instead\n",
      "\n",
      "See the caveats in the documentation: https://pandas.pydata.org/pandas-docs/stable/user_guide/indexing.html#returning-a-view-versus-a-copy\n",
      "  newer_df['tags']=newer_df['tags'].apply(stems)\n"
     ]
    }
   ],
   "source": [
    "#applying the function to tag column\n",
    "newer_df['tags']=newer_df['tags'].apply(stems)"
   ]
  },
  {
   "cell_type": "code",
   "execution_count": 31,
   "id": "fa6e8180-45dc-4a29-918c-2cba849d74f1",
   "metadata": {},
   "outputs": [],
   "source": [
    "#creating our tags column as a vector \n",
    "from sklearn.feature_extraction.text import CountVectorizer\n",
    "cv=CountVectorizer(max_features=5000,stop_words='english')#stop words is use to get rid of the words such as is,an the (which are not useful in our recommendation)\n",
    "vector=cv.fit_transform(newer_df['tags']).toarray()"
   ]
  },
  {
   "cell_type": "code",
   "execution_count": 32,
   "id": "d50740da-07d6-47f5-a1fa-84f92be87047",
   "metadata": {},
   "outputs": [
    {
     "data": {
      "text/plain": [
       "(4806, 5000)"
      ]
     },
     "execution_count": 32,
     "metadata": {},
     "output_type": "execute_result"
    }
   ],
   "source": [
    "vector.shape"
   ]
  },
  {
   "cell_type": "code",
   "execution_count": 33,
   "id": "ca2be24c-904e-48d3-84b4-2aa9d10b3796",
   "metadata": {},
   "outputs": [],
   "source": [
    "#for matching cosine similarity will use scikitLearn pacakage\n",
    "from sklearn.metrics.pairwise import cosine_similarity"
   ]
  },
  {
   "cell_type": "code",
   "execution_count": 34,
   "id": "8be817f4-eb4d-4384-a799-78e1aaf31b27",
   "metadata": {},
   "outputs": [],
   "source": [
    "similar=cosine_similarity(vector)"
   ]
  },
  {
   "cell_type": "code",
   "execution_count": 35,
   "id": "5b3e6e90-67c5-439b-94b7-6d377e5455bd",
   "metadata": {},
   "outputs": [
    {
     "data": {
      "text/plain": [
       "array([[1.        , 0.08346223, 0.0860309 , ..., 0.04499213, 0.        ,\n",
       "        0.        ],\n",
       "       [0.08346223, 1.        , 0.06063391, ..., 0.02378257, 0.        ,\n",
       "        0.02615329],\n",
       "       [0.0860309 , 0.06063391, 1.        , ..., 0.02451452, 0.        ,\n",
       "        0.        ],\n",
       "       ...,\n",
       "       [0.04499213, 0.02378257, 0.02451452, ..., 1.        , 0.03962144,\n",
       "        0.04229549],\n",
       "       [0.        , 0.        , 0.        , ..., 0.03962144, 1.        ,\n",
       "        0.08714204],\n",
       "       [0.        , 0.02615329, 0.        , ..., 0.04229549, 0.08714204,\n",
       "        1.        ]])"
      ]
     },
     "execution_count": 35,
     "metadata": {},
     "output_type": "execute_result"
    }
   ],
   "source": [
    "similar"
   ]
  },
  {
   "cell_type": "code",
   "execution_count": 36,
   "id": "d8ba8fd7-b896-4753-aa9f-fc038861ea9e",
   "metadata": {},
   "outputs": [
    {
     "data": {
      "text/plain": [
       "np.int64(159)"
      ]
     },
     "execution_count": 36,
     "metadata": {},
     "output_type": "execute_result"
    }
   ],
   "source": [
    "newer_df[newer_df['title'] == 'Spider-Man'].index[0]\n"
   ]
  },
  {
   "cell_type": "code",
   "execution_count": 37,
   "id": "b5c7b3ea-f53c-479e-85de-db0fc8a19c6e",
   "metadata": {},
   "outputs": [],
   "source": [
    "#creating a function \n",
    "def recommend(movie):\n",
    "    index=newer_df[newer_df['title'] == movie].index[0]\n",
    "    distances=sorted(list(enumerate(similar[index])),reverse=True,key=lambda x:x[1])\n",
    "    for i in distances[1:6]:\n",
    "        print(newer_df.iloc[i[0]].title)\n"
   ]
  },
  {
   "cell_type": "code",
   "execution_count": 39,
   "id": "88b03115-d99a-454c-83b6-6a29e1e95bc4",
   "metadata": {},
   "outputs": [
    {
     "name": "stdout",
     "output_type": "stream",
     "text": [
      "Iron Man 3\n",
      "Iron Man 2\n",
      "Iron Man\n",
      "Thor\n",
      "The Avengers\n"
     ]
    }
   ],
   "source": [
    "recommend('Avengers: Age of Ultron')"
   ]
  },
  {
   "cell_type": "code",
   "execution_count": 40,
   "id": "d7d1b860-7c0c-473b-bab9-eb56be09456d",
   "metadata": {},
   "outputs": [],
   "source": [
    "import pickle\n",
    "pickle.dump(newer_df,open('artifacts/movie.list.pkl','wb'))\n",
    "pickle.dump(similar,open('artifacts/similarity.list.pkl','wb'))"
   ]
  },
  {
   "cell_type": "code",
   "execution_count": null,
   "id": "71a2c5b5-7c95-4363-b29f-da3c856277c5",
   "metadata": {},
   "outputs": [],
   "source": []
  },
  {
   "cell_type": "code",
   "execution_count": null,
   "id": "9edecc59-cc1d-457f-be6c-77d92a18afdf",
   "metadata": {},
   "outputs": [],
   "source": []
  },
  {
   "cell_type": "code",
   "execution_count": null,
   "id": "b8045bfd-e7d2-42d9-ab5a-32ff804e2ab8",
   "metadata": {},
   "outputs": [],
   "source": []
  },
  {
   "cell_type": "code",
   "execution_count": null,
   "id": "e1017169-9de5-4475-b65f-d416bd009c42",
   "metadata": {},
   "outputs": [],
   "source": []
  }
 ],
 "metadata": {
  "kernelspec": {
   "display_name": "Python 3 (ipykernel)",
   "language": "python",
   "name": "python3"
  },
  "language_info": {
   "codemirror_mode": {
    "name": "ipython",
    "version": 3
   },
   "file_extension": ".py",
   "mimetype": "text/x-python",
   "name": "python",
   "nbconvert_exporter": "python",
   "pygments_lexer": "ipython3",
   "version": "3.12.5"
  }
 },
 "nbformat": 4,
 "nbformat_minor": 5
}
